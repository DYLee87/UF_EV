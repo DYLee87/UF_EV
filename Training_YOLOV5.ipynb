{
  "nbformat": 4,
  "nbformat_minor": 0,
  "metadata": {
    "colab": {
      "name": "Training_YOLOV5",
      "provenance": [],
      "collapsed_sections": [],
      "machine_shape": "hm"
    },
    "kernelspec": {
      "name": "python3",
      "display_name": "Python 3"
    },
    "language_info": {
      "name": "python"
    },
    "accelerator": "TPU"
  },
  "cells": [
    {
      "cell_type": "markdown",
      "source": [
        "## 0. Base Setting"
      ],
      "metadata": {
        "id": "wI3kD8AQjd1T"
      }
    },
    {
      "cell_type": "code",
      "source": [
        "# Google drive 연동\n",
        "\n",
        "from google.colab import drive\n",
        "drive.mount('/gdrive', force_remount = True)"
      ],
      "metadata": {
        "colab": {
          "base_uri": "https://localhost:8080/"
        },
        "id": "FEJxTkMIjesV",
        "outputId": "c7b90755-1ec2-412d-e282-4aeb9f383fbf"
      },
      "execution_count": 1,
      "outputs": [
        {
          "output_type": "stream",
          "name": "stdout",
          "text": [
            "Mounted at /gdrive\n"
          ]
        }
      ]
    },
    {
      "cell_type": "code",
      "metadata": {
        "colab": {
          "base_uri": "https://localhost:8080/"
        },
        "id": "XwpOQQj8Yfe9",
        "outputId": "a2be0c32-85c3-4db5-d5c1-956d76a96c7d"
      },
      "source": [
        "## Yolov5 git clone 및 requirements install\n",
        "\n",
        "#%cd /content\n",
        "#!git clone https://github.com/ultralytics/yolov5.git\n",
        "\n",
        "%cd /\n",
        "%cd /gdrive/MyDrive/yolov5/\n",
        "\n",
        "\n",
        "#설치 후 runtime 초기화\n",
        "#!pip install -r requirements.txt"
      ],
      "execution_count": 2,
      "outputs": [
        {
          "output_type": "stream",
          "name": "stdout",
          "text": [
            "/\n",
            "/gdrive/MyDrive/yolov5\n"
          ]
        }
      ]
    },
    {
      "cell_type": "markdown",
      "source": [
        "##1. Data preparation"
      ],
      "metadata": {
        "id": "QoV2WS-DkuV5"
      }
    },
    {
      "cell_type": "code",
      "metadata": {
        "colab": {
          "base_uri": "https://localhost:8080/"
        },
        "id": "4qQkxMTcYVVg",
        "outputId": "6484f0b3-7f17-4f3d-ed12-4f30a149ed40"
      },
      "source": [
        "## Google drive의 각 폴더에 raw img, label txt 파일을 준비\n",
        "## 폴더의 파일명 및 수량은 반드시 동일해야함.\n",
        "\n",
        "from glob import glob\n",
        "from sklearn.model_selection import train_test_split\n",
        "\n",
        "img_list = glob('/gdrive/MyDrive/yolov5_dataset/images/*.jpg')\n",
        "img_list = sorted(img_list)\n",
        "\n",
        "print()\n",
        "\n",
        "txt_list = glob('/gdrive/MyDrive/yolov5_dataset/labels/*.txt')\n",
        "txt_list = sorted(txt_list)\n",
        "print(len(img_list), \" / \", len(txt_list))\n",
        "\n",
        "train_img_list, val_img_list = train_test_split(img_list, test_size=0.2, random_state=2000)\n",
        "print(len(train_img_list), len(val_img_list))\n"
      ],
      "execution_count": 3,
      "outputs": [
        {
          "output_type": "stream",
          "name": "stdout",
          "text": [
            "\n",
            "1142  /  1142\n",
            "913 229\n"
          ]
        }
      ]
    },
    {
      "cell_type": "code",
      "metadata": {
        "colab": {
          "base_uri": "https://localhost:8080/"
        },
        "id": "vNb-opraoeDQ",
        "outputId": "df78e3b3-7038-448e-8d45-f012b71ab5f9"
      },
      "source": [
        "## image 수량이 안맞을 경우 비교하기위한 func\n",
        "\n",
        "img_li = list(map(lambda x : x[42:52], img_list))\n",
        "txt_li = list(map(lambda x : x[42:52], txt_list))\n",
        "\n",
        "for i in range(len(img_li)):\n",
        "    if (img_li[i] == txt_li[i]) == False:\n",
        "        print(i)\n",
        "    elif i == (len(img_li)-1):\n",
        "        print('end')\n",
        "\n",
        "print(img_li[0:5])\n",
        "print(txt_li[0:5])"
      ],
      "execution_count": 4,
      "outputs": [
        {
          "output_type": "stream",
          "name": "stdout",
          "text": [
            "end\n",
            "['0810093029', '0810093103', '0810093137', '0810093202', '0810093236']\n",
            "['0810093029', '0810093103', '0810093137', '0810093202', '0810093236']\n"
          ]
        }
      ]
    },
    {
      "cell_type": "markdown",
      "source": [
        "##2. Data input 정보 생성(.yaml)\n",
        "!!!! 반드시 첨부된 data.yaml 파일 사용"
      ],
      "metadata": {
        "id": "6o0pCnKQnhEm"
      }
    },
    {
      "cell_type": "code",
      "metadata": {
        "id": "LVhro7CPayAu"
      },
      "source": [
        "with open('train.txt', 'w') as f:\n",
        "  f.write('\\n'.join(train_img_list) + '\\n')\n",
        "  \n",
        "with open('val.txt', 'w') as f:\n",
        "  f.write('\\n'.join(val_img_list) + '\\n')"
      ],
      "execution_count": 5,
      "outputs": []
    },
    {
      "cell_type": "code",
      "metadata": {
        "colab": {
          "base_uri": "https://localhost:8080/"
        },
        "id": "gL2kYAQfaJuZ",
        "outputId": "976218da-a08a-4d50-9b32-c7b29b2e2bdc"
      },
      "source": [
        "import yaml\n",
        "\n",
        "with open('/gdrive/MyDrive/yolov5_dataset/data_custom.yaml', 'r') as f:\n",
        "  data = yaml.full_load(f)\n",
        "\n",
        "print(data)\n",
        "\n",
        "data['train'] = '/gdrive/MyDrive/yolov5/train.txt'\n",
        "data['val'] = '/gdrive/MyDrive/yolov5/val.txt'\n",
        "\n",
        "with open('data.yaml', 'w') as f:\n",
        "  yaml.dump(data, f)\n",
        "\n",
        "print(data)"
      ],
      "execution_count": 12,
      "outputs": [
        {
          "output_type": "stream",
          "name": "stdout",
          "text": [
            "{'train': '../train/images', 'val': '../valid/images', 'nc': 3, 'names': ['Tire', 'Tire_inner', 'Barcode']}\n",
            "{'train': '/gdrive/MyDrive/yolov5/train.txt', 'val': '/gdrive/MyDrive/yolov5/val.txt', 'nc': 3, 'names': ['Tire', 'Tire_inner', 'Barcode']}\n"
          ]
        }
      ]
    },
    {
      "cell_type": "markdown",
      "source": [
        "##3. Training\n",
        "\n",
        " 자세한 사항은 세부 항복은 train.py의 arg parser 확인\n",
        " \n",
        " --img : 이미지 처리 size, yolov5 github 참조\n",
        " \n",
        " --data : yolov5에 custom 된 yaml 파일\n",
        " \n",
        " --cfg : weights s에 대한 yaml 파일\n",
        " \n",
        " --weights : weights에 대한 부분은 yolov5 github 참조\n",
        " \n",
        " --name : train된 best.py가 저장될 folder 이름 ./runs/train/ 에 해당폴더이름으로 저장됨"
      ],
      "metadata": {
        "id": "a7OcDnIunzoj"
      }
    },
    {
      "cell_type": "code",
      "metadata": {
        "colab": {
          "base_uri": "https://localhost:8080/"
        },
        "id": "vxFETPa2JqoR",
        "outputId": "df262543-f3aa-4f4b-9cb6-fba22ddff427"
      },
      "source": [
        "!python train.py --img 640 --batch 32 --epochs 2 --data data.yaml --cfg ./models/yolov5s.yaml --weights ./weights/yolov5s.pt --name yolov5s_test"
      ],
      "execution_count": 13,
      "outputs": [
        {
          "output_type": "stream",
          "name": "stdout",
          "text": [
            "\u001b[34m\u001b[1mgithub: \u001b[0m⚠️ WARNING: code is out of date by 607 commits. Use 'git pull' to update or 'git clone https://github.com/ultralytics/yolov5' to download latest.\n",
            "YOLOv5 🚀 2021-5-4 torch 1.10.0+cu111 CPU\n",
            "\n",
            "Namespace(adam=False, artifact_alias='latest', batch_size=32, bbox_interval=-1, bucket='', cache_images=False, cfg='./models/yolov5s.yaml', data='data.yaml', device='', entity=None, epochs=2, evolve=False, exist_ok=False, global_rank=-1, hyp='data/hyp.scratch.yaml', image_weights=False, img_size=[640, 640], label_smoothing=0.0, linear_lr=False, local_rank=-1, multi_scale=False, name='yolov5s_test', noautoanchor=False, nosave=False, notest=False, project='runs/train', quad=False, rect=False, resume=False, save_dir='runs/train/yolov5s_test4', save_period=-1, single_cls=False, sync_bn=False, total_batch_size=32, upload_dataset=False, weights='./weights/yolov5s.pt', workers=8, world_size=1)\n",
            "\u001b[34m\u001b[1mtensorboard: \u001b[0mStart with 'tensorboard --logdir runs/train', view at http://localhost:6006/\n",
            "\u001b[34m\u001b[1mhyperparameters: \u001b[0mlr0=0.01, lrf=0.2, momentum=0.937, weight_decay=0.0005, warmup_epochs=3.0, warmup_momentum=0.8, warmup_bias_lr=0.1, box=0.05, cls=0.5, cls_pw=1.0, obj=1.0, obj_pw=1.0, iou_t=0.2, anchor_t=4.0, fl_gamma=0.0, hsv_h=0.015, hsv_s=0.7, hsv_v=0.4, degrees=0.0, translate=0.1, scale=0.5, shear=0.0, perspective=0.0, flipud=0.0, fliplr=0.5, mosaic=1.0, mixup=0.0\n",
            "\u001b[34m\u001b[1mwandb: \u001b[0mInstall Weights & Biases for YOLOv5 logging with 'pip install wandb' (recommended)\n",
            "Overriding model.yaml nc=80 with nc=3\n",
            "\n",
            "                 from  n    params  module                                  arguments                     \n",
            "  0                -1  1      3520  models.common.Focus                     [3, 32, 3]                    \n",
            "  1                -1  1     18560  models.common.Conv                      [32, 64, 3, 2]                \n",
            "  2                -1  1     18816  models.common.C3                        [64, 64, 1]                   \n",
            "  3                -1  1     73984  models.common.Conv                      [64, 128, 3, 2]               \n",
            "  4                -1  1    156928  models.common.C3                        [128, 128, 3]                 \n",
            "  5                -1  1    295424  models.common.Conv                      [128, 256, 3, 2]              \n",
            "  6                -1  1    625152  models.common.C3                        [256, 256, 3]                 \n",
            "  7                -1  1   1180672  models.common.Conv                      [256, 512, 3, 2]              \n",
            "  8                -1  1    656896  models.common.SPP                       [512, 512, [5, 9, 13]]        \n",
            "  9                -1  1   1182720  models.common.C3                        [512, 512, 1, False]          \n",
            " 10                -1  1    131584  models.common.Conv                      [512, 256, 1, 1]              \n",
            " 11                -1  1         0  torch.nn.modules.upsampling.Upsample    [None, 2, 'nearest']          \n",
            " 12           [-1, 6]  1         0  models.common.Concat                    [1]                           \n",
            " 13                -1  1    361984  models.common.C3                        [512, 256, 1, False]          \n",
            " 14                -1  1     33024  models.common.Conv                      [256, 128, 1, 1]              \n",
            " 15                -1  1         0  torch.nn.modules.upsampling.Upsample    [None, 2, 'nearest']          \n",
            " 16           [-1, 4]  1         0  models.common.Concat                    [1]                           \n",
            " 17                -1  1     90880  models.common.C3                        [256, 128, 1, False]          \n",
            " 18                -1  1    147712  models.common.Conv                      [128, 128, 3, 2]              \n",
            " 19          [-1, 14]  1         0  models.common.Concat                    [1]                           \n",
            " 20                -1  1    296448  models.common.C3                        [256, 256, 1, False]          \n",
            " 21                -1  1    590336  models.common.Conv                      [256, 256, 3, 2]              \n",
            " 22          [-1, 10]  1         0  models.common.Concat                    [1]                           \n",
            " 23                -1  1   1182720  models.common.C3                        [512, 512, 1, False]          \n",
            " 24      [17, 20, 23]  1     21576  models.yolo.Detect                      [3, [[10, 13, 16, 30, 33, 23], [30, 61, 62, 45, 59, 119], [116, 90, 156, 198, 373, 326]], [128, 256, 512]]\n",
            "Model Summary: 283 layers, 7068936 parameters, 7068936 gradients\n",
            "\n",
            "Transferred 354/362 items from ./weights/yolov5s.pt\n",
            "Scaled weight_decay = 0.0005\n",
            "Optimizer groups: 62 .bias, 62 conv.weight, 59 other\n",
            "\u001b[34m\u001b[1mtrain: \u001b[0mScanning '/gdrive/MyDrive/yolov5/train.cache' images and labels... 913 found, 0 missing, 0 empty, 0 corrupted: 100% 913/913 [00:00<?, ?it/s]\n",
            "\u001b[34m\u001b[1mval: \u001b[0mScanning '/gdrive/MyDrive/yolov5/val.cache' images and labels... 229 found, 0 missing, 0 empty, 0 corrupted: 100% 229/229 [00:00<?, ?it/s]\n",
            "Plotting labels... \n",
            "\n",
            "\u001b[34m\u001b[1mautoanchor: \u001b[0mAnalyzing anchors... anchors/target = 3.11, Best Possible Recall (BPR) = 1.0000\n",
            "Image sizes 640 train, 640 test\n",
            "Using 8 dataloader workers\n",
            "Logging results to runs/train/yolov5s_test4\n",
            "Starting training for 2 epochs...\n",
            "\n",
            "     Epoch   gpu_mem       box       obj       cls     total    labels  img_size\n",
            "  0% 0/29 [00:00<?, ?it/s]/usr/local/lib/python3.7/dist-packages/torch/autocast_mode.py:141: UserWarning: User provided device_type of 'cuda', but CUDA is not available. Disabling\n",
            "  warnings.warn('User provided device_type of \\'cuda\\', but CUDA is not available. Disabling')\n",
            "       0/1        0G    0.1088   0.03835   0.03428    0.1815       114       640: 100% 29/29 [04:05<00:00,  8.47s/it]\n",
            "               Class      Images      Labels           P           R      mAP@.5  mAP@.5:.95:   0% 0/4 [00:00<?, ?it/s]/usr/local/lib/python3.7/dist-packages/torch/functional.py:445: UserWarning: torch.meshgrid: in an upcoming release, it will be required to pass the indexing argument. (Triggered internally at  ../aten/src/ATen/native/TensorShape.cpp:2157.)\n",
            "  return _VF.meshgrid(tensors, **kwargs)  # type: ignore[attr-defined]\n",
            "               Class      Images      Labels           P           R      mAP@.5  mAP@.5:.95: 100% 4/4 [00:25<00:00,  6.36s/it]\n",
            "                 all         229         675       0.697       0.467       0.437       0.143\n",
            "\n",
            "     Epoch   gpu_mem       box       obj       cls     total    labels  img_size\n",
            "       1/1        0G   0.08991    0.0387     0.027    0.1556       120       640: 100% 29/29 [03:39<00:00,  7.56s/it]\n",
            "               Class      Images      Labels           P           R      mAP@.5  mAP@.5:.95: 100% 4/4 [00:22<00:00,  5.73s/it]\n",
            "                 all         229         675       0.859       0.555       0.585       0.255\n",
            "                Tire         229         229       0.718       0.843       0.833       0.292\n",
            "          Tire_inner         229         229       0.858       0.821       0.921       0.473\n",
            "             Barcode         229         217           1           0    5.66e-05    1.13e-05\n",
            "2 epochs completed in 0.144 hours.\n",
            "\n",
            "Optimizer stripped from runs/train/yolov5s_test4/weights/last.pt, 14.4MB\n",
            "Optimizer stripped from runs/train/yolov5s_test4/weights/best.pt, 14.4MB\n"
          ]
        }
      ]
    },
    {
      "cell_type": "markdown",
      "source": [
        "##4. Detecting\n",
        "\n",
        " 자세한 사항은 세부 항복은 detect.py의 arg parser 확인\n",
        " \n",
        " --img : 이미지 처리 size, yolov5 github 참조\n",
        " \n",
        " --conf : bounding box할 treshold 값 (0~1 사이의 값)\n",
        " \n",
        " --source : detect할 image folder 또는 name\n",
        " \n",
        " 해당폴더이름으로 저장됨"
      ],
      "metadata": {
        "id": "5ob_9JQJ_qMR"
      }
    },
    {
      "cell_type": "code",
      "metadata": {
        "id": "49nK1s35_3Bq",
        "colab": {
          "base_uri": "https://localhost:8080/",
          "height": 808
        },
        "outputId": "fb6824c4-895e-455b-87e9-530ed3136c59"
      },
      "source": [
        "\n",
        "\n",
        "!python detect.py --weights runs/train/yolov5s_10005/weights/best.pt --img 640 --conf 0.25 --source '/gdrive/MyDrive/yolov5_dataset/images_test/'"
      ],
      "execution_count": 14,
      "outputs": [
        {
          "output_type": "stream",
          "name": "stdout",
          "text": [
            "Namespace(agnostic_nms=False, augment=False, classes=None, conf_thres=0.25, device='', exist_ok=False, hide_conf=False, hide_labels=False, img_size=640, iou_thres=0.45, line_thickness=3, name='exp', nosave=False, project='runs/detect', save_conf=False, save_crop=False, save_txt=False, source='/gdrive/MyDrive/yolov5_dataset/images_test/', update=False, view_img=False, weights=['runs/train/yolov5s_10005/weights/best.pt'])\n",
            "YOLOv5 🚀 2021-5-4 torch 1.10.0+cu111 CPU\n",
            "\n",
            "Fusing layers... \n",
            "Model Summary: 224 layers, 7056607 parameters, 0 gradients\n",
            "/usr/local/lib/python3.7/dist-packages/torch/functional.py:445: UserWarning: torch.meshgrid: in an upcoming release, it will be required to pass the indexing argument. (Triggered internally at  ../aten/src/ATen/native/TensorShape.cpp:2157.)\n",
            "  return _VF.meshgrid(tensors, **kwargs)  # type: ignore[attr-defined]\n",
            "image 1/1664 /gdrive/MyDrive/yolov5_dataset/images_test/img_0813120010.jpg: 480x640 1 Barcode, 1 Tire, Done. (0.114s)\n",
            "image 2/1664 /gdrive/MyDrive/yolov5_dataset/images_test/img_0813120040.jpg: 480x640 1 Tire, Done. (0.096s)\n",
            "image 3/1664 /gdrive/MyDrive/yolov5_dataset/images_test/img_0813120117.jpg: 480x640 1 Barcode, 1 Tire, Done. (0.091s)\n",
            "image 4/1664 /gdrive/MyDrive/yolov5_dataset/images_test/img_0813120217.jpg: 480x640 1 Tire, Done. (0.091s)\n",
            "image 5/1664 /gdrive/MyDrive/yolov5_dataset/images_test/img_0813120246.jpg: 480x640 1 Barcode, 1 Tire, Done. (0.091s)\n",
            "image 6/1664 /gdrive/MyDrive/yolov5_dataset/images_test/img_0813120324.jpg: 480x640 1 Tire, Done. (0.090s)\n",
            "image 7/1664 /gdrive/MyDrive/yolov5_dataset/images_test/img_0813120353.jpg: 480x640 1 Barcode, 1 Tire, Done. (0.090s)\n",
            "image 8/1664 /gdrive/MyDrive/yolov5_dataset/images_test/img_0813120423.jpg: 480x640 1 Barcode, 1 Tire, Done. (0.079s)\n",
            "image 9/1664 /gdrive/MyDrive/yolov5_dataset/images_test/img_0813120452.jpg: 480x640 1 Barcode, 1 Tire, Done. (0.083s)\n",
            "image 10/1664 /gdrive/MyDrive/yolov5_dataset/images_test/img_0813120530.jpg: 480x640 1 Tire, Done. (0.086s)\n",
            "image 11/1664 /gdrive/MyDrive/yolov5_dataset/images_test/img_0813120559.jpg: 480x640 1 Tire, Done. (0.086s)\n",
            "image 12/1664 /gdrive/MyDrive/yolov5_dataset/images_test/img_0813120658.jpg: 480x640 1 Barcode, 1 Tire, Done. (0.077s)\n",
            "image 13/1664 /gdrive/MyDrive/yolov5_dataset/images_test/img_0813120735.jpg: 480x640 1 Barcode, 1 Tire, Done. (0.087s)\n",
            "image 14/1664 /gdrive/MyDrive/yolov5_dataset/images_test/img_0813120805.jpg: 480x640 1 Tire, Done. (0.083s)\n",
            "image 15/1664 /gdrive/MyDrive/yolov5_dataset/images_test/img_0813121007.jpg: 480x640 1 Tire, Done. (0.084s)\n",
            "image 16/1664 /gdrive/MyDrive/yolov5_dataset/images_test/img_0813121559.jpg: 480x640 1 Barcode, 1 Tire, Done. (0.087s)\n"
          ]
        },
        {
          "output_type": "error",
          "ename": "KeyboardInterrupt",
          "evalue": "ignored",
          "traceback": [
            "\u001b[0;31m---------------------------------------------------------------------------\u001b[0m",
            "\u001b[0;31mKeyboardInterrupt\u001b[0m                         Traceback (most recent call last)",
            "\u001b[0;32m<ipython-input-14-585da59b3700>\u001b[0m in \u001b[0;36m<module>\u001b[0;34m()\u001b[0m\n\u001b[1;32m      3\u001b[0m \u001b[0mval_img_path\u001b[0m \u001b[0;34m=\u001b[0m \u001b[0;34m'/gdrive/MyDrive/yolov5_dataset/images_test/'\u001b[0m\u001b[0;34m\u001b[0m\u001b[0;34m\u001b[0m\u001b[0m\n\u001b[1;32m      4\u001b[0m \u001b[0;34m\u001b[0m\u001b[0m\n\u001b[0;32m----> 5\u001b[0;31m \u001b[0mget_ipython\u001b[0m\u001b[0;34m(\u001b[0m\u001b[0;34m)\u001b[0m\u001b[0;34m.\u001b[0m\u001b[0msystem\u001b[0m\u001b[0;34m(\u001b[0m\u001b[0;34m\"python detect.py --weights runs/train/yolov5s_10005/weights/best.pt --img 640 --conf 0.25 --source '/gdrive/MyDrive/yolov5_dataset/images_test/'\"\u001b[0m\u001b[0;34m)\u001b[0m\u001b[0;34m\u001b[0m\u001b[0;34m\u001b[0m\u001b[0m\n\u001b[0m",
            "\u001b[0;32m/usr/local/lib/python3.7/dist-packages/google/colab/_shell.py\u001b[0m in \u001b[0;36msystem\u001b[0;34m(self, *args, **kwargs)\u001b[0m\n\u001b[1;32m    100\u001b[0m       \u001b[0mkwargs\u001b[0m\u001b[0;34m.\u001b[0m\u001b[0mupdate\u001b[0m\u001b[0;34m(\u001b[0m\u001b[0;34m{\u001b[0m\u001b[0;34m'also_return_output'\u001b[0m\u001b[0;34m:\u001b[0m \u001b[0;32mTrue\u001b[0m\u001b[0;34m}\u001b[0m\u001b[0;34m)\u001b[0m\u001b[0;34m\u001b[0m\u001b[0;34m\u001b[0m\u001b[0m\n\u001b[1;32m    101\u001b[0m \u001b[0;34m\u001b[0m\u001b[0m\n\u001b[0;32m--> 102\u001b[0;31m     \u001b[0moutput\u001b[0m \u001b[0;34m=\u001b[0m \u001b[0m_system_commands\u001b[0m\u001b[0;34m.\u001b[0m\u001b[0m_system_compat\u001b[0m\u001b[0;34m(\u001b[0m\u001b[0mself\u001b[0m\u001b[0;34m,\u001b[0m \u001b[0;34m*\u001b[0m\u001b[0margs\u001b[0m\u001b[0;34m,\u001b[0m \u001b[0;34m**\u001b[0m\u001b[0mkwargs\u001b[0m\u001b[0;34m)\u001b[0m  \u001b[0;31m# pylint:disable=protected-access\u001b[0m\u001b[0;34m\u001b[0m\u001b[0;34m\u001b[0m\u001b[0m\n\u001b[0m\u001b[1;32m    103\u001b[0m \u001b[0;34m\u001b[0m\u001b[0m\n\u001b[1;32m    104\u001b[0m     \u001b[0;32mif\u001b[0m \u001b[0mpip_warn\u001b[0m\u001b[0;34m:\u001b[0m\u001b[0;34m\u001b[0m\u001b[0;34m\u001b[0m\u001b[0m\n",
            "\u001b[0;32m/usr/local/lib/python3.7/dist-packages/google/colab/_system_commands.py\u001b[0m in \u001b[0;36m_system_compat\u001b[0;34m(shell, cmd, also_return_output)\u001b[0m\n\u001b[1;32m    445\u001b[0m   \u001b[0;31m# stack.\u001b[0m\u001b[0;34m\u001b[0m\u001b[0;34m\u001b[0m\u001b[0;34m\u001b[0m\u001b[0m\n\u001b[1;32m    446\u001b[0m   result = _run_command(\n\u001b[0;32m--> 447\u001b[0;31m       shell.var_expand(cmd, depth=2), clear_streamed_output=False)\n\u001b[0m\u001b[1;32m    448\u001b[0m   \u001b[0mshell\u001b[0m\u001b[0;34m.\u001b[0m\u001b[0muser_ns\u001b[0m\u001b[0;34m[\u001b[0m\u001b[0;34m'_exit_code'\u001b[0m\u001b[0;34m]\u001b[0m \u001b[0;34m=\u001b[0m \u001b[0mresult\u001b[0m\u001b[0;34m.\u001b[0m\u001b[0mreturncode\u001b[0m\u001b[0;34m\u001b[0m\u001b[0;34m\u001b[0m\u001b[0m\n\u001b[1;32m    449\u001b[0m   \u001b[0;32mif\u001b[0m \u001b[0;34m-\u001b[0m\u001b[0mresult\u001b[0m\u001b[0;34m.\u001b[0m\u001b[0mreturncode\u001b[0m \u001b[0;32min\u001b[0m \u001b[0m_INTERRUPTED_SIGNALS\u001b[0m\u001b[0;34m:\u001b[0m\u001b[0;34m\u001b[0m\u001b[0;34m\u001b[0m\u001b[0m\n",
            "\u001b[0;32m/usr/local/lib/python3.7/dist-packages/google/colab/_system_commands.py\u001b[0m in \u001b[0;36m_run_command\u001b[0;34m(cmd, clear_streamed_output)\u001b[0m\n\u001b[1;32m    197\u001b[0m       \u001b[0mos\u001b[0m\u001b[0;34m.\u001b[0m\u001b[0mclose\u001b[0m\u001b[0;34m(\u001b[0m\u001b[0mchild_pty\u001b[0m\u001b[0;34m)\u001b[0m\u001b[0;34m\u001b[0m\u001b[0;34m\u001b[0m\u001b[0m\n\u001b[1;32m    198\u001b[0m \u001b[0;34m\u001b[0m\u001b[0m\n\u001b[0;32m--> 199\u001b[0;31m       \u001b[0;32mreturn\u001b[0m \u001b[0m_monitor_process\u001b[0m\u001b[0;34m(\u001b[0m\u001b[0mparent_pty\u001b[0m\u001b[0;34m,\u001b[0m \u001b[0mepoll\u001b[0m\u001b[0;34m,\u001b[0m \u001b[0mp\u001b[0m\u001b[0;34m,\u001b[0m \u001b[0mcmd\u001b[0m\u001b[0;34m,\u001b[0m \u001b[0mupdate_stdin_widget\u001b[0m\u001b[0;34m)\u001b[0m\u001b[0;34m\u001b[0m\u001b[0;34m\u001b[0m\u001b[0m\n\u001b[0m\u001b[1;32m    200\u001b[0m   \u001b[0;32mfinally\u001b[0m\u001b[0;34m:\u001b[0m\u001b[0;34m\u001b[0m\u001b[0;34m\u001b[0m\u001b[0m\n\u001b[1;32m    201\u001b[0m     \u001b[0mepoll\u001b[0m\u001b[0;34m.\u001b[0m\u001b[0mclose\u001b[0m\u001b[0;34m(\u001b[0m\u001b[0;34m)\u001b[0m\u001b[0;34m\u001b[0m\u001b[0;34m\u001b[0m\u001b[0m\n",
            "\u001b[0;32m/usr/local/lib/python3.7/dist-packages/google/colab/_system_commands.py\u001b[0m in \u001b[0;36m_monitor_process\u001b[0;34m(parent_pty, epoll, p, cmd, update_stdin_widget)\u001b[0m\n\u001b[1;32m    227\u001b[0m   \u001b[0;32mwhile\u001b[0m \u001b[0;32mTrue\u001b[0m\u001b[0;34m:\u001b[0m\u001b[0;34m\u001b[0m\u001b[0;34m\u001b[0m\u001b[0m\n\u001b[1;32m    228\u001b[0m     \u001b[0;32mtry\u001b[0m\u001b[0;34m:\u001b[0m\u001b[0;34m\u001b[0m\u001b[0;34m\u001b[0m\u001b[0m\n\u001b[0;32m--> 229\u001b[0;31m       \u001b[0mresult\u001b[0m \u001b[0;34m=\u001b[0m \u001b[0m_poll_process\u001b[0m\u001b[0;34m(\u001b[0m\u001b[0mparent_pty\u001b[0m\u001b[0;34m,\u001b[0m \u001b[0mepoll\u001b[0m\u001b[0;34m,\u001b[0m \u001b[0mp\u001b[0m\u001b[0;34m,\u001b[0m \u001b[0mcmd\u001b[0m\u001b[0;34m,\u001b[0m \u001b[0mdecoder\u001b[0m\u001b[0;34m,\u001b[0m \u001b[0mstate\u001b[0m\u001b[0;34m)\u001b[0m\u001b[0;34m\u001b[0m\u001b[0;34m\u001b[0m\u001b[0m\n\u001b[0m\u001b[1;32m    230\u001b[0m       \u001b[0;32mif\u001b[0m \u001b[0mresult\u001b[0m \u001b[0;32mis\u001b[0m \u001b[0;32mnot\u001b[0m \u001b[0;32mNone\u001b[0m\u001b[0;34m:\u001b[0m\u001b[0;34m\u001b[0m\u001b[0;34m\u001b[0m\u001b[0m\n\u001b[1;32m    231\u001b[0m         \u001b[0;32mreturn\u001b[0m \u001b[0mresult\u001b[0m\u001b[0;34m\u001b[0m\u001b[0;34m\u001b[0m\u001b[0m\n",
            "\u001b[0;32m/usr/local/lib/python3.7/dist-packages/google/colab/_system_commands.py\u001b[0m in \u001b[0;36m_poll_process\u001b[0;34m(parent_pty, epoll, p, cmd, decoder, state)\u001b[0m\n\u001b[1;32m    329\u001b[0m     \u001b[0;31m# TODO(b/115527726): Rather than sleep, poll for incoming messages from\u001b[0m\u001b[0;34m\u001b[0m\u001b[0;34m\u001b[0m\u001b[0;34m\u001b[0m\u001b[0m\n\u001b[1;32m    330\u001b[0m     \u001b[0;31m# the frontend in the same poll as for the output.\u001b[0m\u001b[0;34m\u001b[0m\u001b[0;34m\u001b[0m\u001b[0;34m\u001b[0m\u001b[0m\n\u001b[0;32m--> 331\u001b[0;31m     \u001b[0mtime\u001b[0m\u001b[0;34m.\u001b[0m\u001b[0msleep\u001b[0m\u001b[0;34m(\u001b[0m\u001b[0;36m0.1\u001b[0m\u001b[0;34m)\u001b[0m\u001b[0;34m\u001b[0m\u001b[0;34m\u001b[0m\u001b[0m\n\u001b[0m\u001b[1;32m    332\u001b[0m \u001b[0;34m\u001b[0m\u001b[0m\n\u001b[1;32m    333\u001b[0m \u001b[0;34m\u001b[0m\u001b[0m\n",
            "\u001b[0;31mKeyboardInterrupt\u001b[0m: "
          ]
        }
      ]
    },
    {
      "cell_type": "code",
      "metadata": {
        "id": "wrSP9eYnfZv0"
      },
      "source": [
        ""
      ],
      "execution_count": null,
      "outputs": []
    }
  ]
}